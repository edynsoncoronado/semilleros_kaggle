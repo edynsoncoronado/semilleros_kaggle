{
  "nbformat": 4,
  "nbformat_minor": 0,
  "metadata": {
    "colab": {
      "name": "DSRP.ipynb",
      "version": "0.3.2",
      "provenance": [],
      "collapsed_sections": [],
      "include_colab_link": true
    },
    "kernelspec": {
      "name": "python3",
      "display_name": "Python 3"
    }
  },
  "cells": [
    {
      "cell_type": "markdown",
      "metadata": {
        "id": "view-in-github",
        "colab_type": "text"
      },
      "source": [
        "<a href=\"https://colab.research.google.com/github/edynsoncoronado/semilleros_kaggle/blob/master/DSRP.ipynb\" target=\"_parent\"><img src=\"https://colab.research.google.com/assets/colab-badge.svg\" alt=\"Open In Colab\"/></a>"
      ]
    },
    {
      "cell_type": "markdown",
      "metadata": {
        "id": "OmF8xhMGobaY",
        "colab_type": "text"
      },
      "source": [
        "**1) IMPORT & INSTALL PACKAGES**"
      ]
    },
    {
      "cell_type": "code",
      "metadata": {
        "id": "YzK7Cun0or45",
        "colab_type": "code",
        "colab": {
          "base_uri": "https://localhost:8080/",
          "height": 34
        },
        "outputId": "f18b7c5f-89c0-4342-fb37-c65bd20d2c3a"
      },
      "source": [
        "\n",
        "!pip install -U -q PyDrive\n",
        "from pydrive.auth import GoogleAuth\n",
        "from pydrive.drive import GoogleDrive\n",
        "from google.colab import auth\n",
        "from oauth2client.client import GoogleCredentials\n",
        "\n",
        "\"\"\"\n",
        "from google.colab import files\n",
        "uploaded = files.upload()\n",
        "\"\"\""
      ],
      "execution_count": 22,
      "outputs": [
        {
          "output_type": "execute_result",
          "data": {
            "text/plain": [
              "'\\nfrom google.colab import files\\nuploaded = files.upload()\\n'"
            ]
          },
          "metadata": {
            "tags": []
          },
          "execution_count": 22
        }
      ]
    },
    {
      "cell_type": "code",
      "metadata": {
        "id": "YEF0FMlASYX2",
        "colab_type": "code",
        "colab": {}
      },
      "source": [
        "# data dependencies\n",
        "import pandas as pd\n",
        "import numpy as np\n",
        "from matplotlib import pyplot as plt\n",
        "import seaborn as sns\n",
        "from sklearn import metrics as mt\n",
        "\n",
        "plt.rcParams['figure.figsize'] = [16, 10]"
      ],
      "execution_count": 0,
      "outputs": []
    },
    {
      "cell_type": "code",
      "metadata": {
        "id": "pSO9x1GoTLin",
        "colab_type": "code",
        "colab": {}
      },
      "source": [
        "# Authenticate and create the PyDrive client.\n",
        "auth.authenticate_user()\n",
        "gauth = GoogleAuth()\n",
        "gauth.credentials = GoogleCredentials.get_application_default()\n",
        "drive = GoogleDrive(gauth)\n",
        "\n",
        "train_downloaded = drive.CreateFile({'id':'14rqeYnwGg_cpL7ceLjgGDIr6jkDPobV5'})\n",
        "train_downloaded.GetContentFile('train.csv')\n",
        "test_downloaded = drive.CreateFile({'id':'1GnsiE5bdhd6f1izr7ULd0XdFD3n2-U-E'})\n",
        "test_downloaded.GetContentFile('test.csv')\n"
      ],
      "execution_count": 0,
      "outputs": []
    },
    {
      "cell_type": "code",
      "metadata": {
        "id": "glrqGIziVZJh",
        "colab_type": "code",
        "colab": {}
      },
      "source": [
        "# Seleccion de Variables a usar en este BASELINE:\n",
        "\n",
        "\n",
        "features_iniciales = [\n",
        " 'ID',\n",
        " 'Sexo',\n",
        " 'AdultoMayor',\n",
        " 'MesesCliente',\n",
        " 'ServicioTelefonico',\n",
        " 'LineasMultiples',\n",
        " 'ProteccionDispositivo',\n",
        " 'SoporteTecnico',\n",
        " 'FacturacionElectronica',\n",
        " 'MontoCargadoMes'\n",
        "]\n",
        "\n",
        "df_train = pd.read_csv('train.csv')\n",
        "df_test = pd.read_csv('test.csv')\n"
      ],
      "execution_count": 0,
      "outputs": []
    },
    {
      "cell_type": "code",
      "metadata": {
        "id": "k5YUtMjtTc_X",
        "colab_type": "code",
        "colab": {
          "base_uri": "https://localhost:8080/",
          "height": 348
        },
        "outputId": "9b1a6266-68bb-4e94-b7a6-66e4f550f2f2"
      },
      "source": [
        "df_train.shape, df_test.shape\n",
        "df_train.head()"
      ],
      "execution_count": 28,
      "outputs": [
        {
          "output_type": "execute_result",
          "data": {
            "text/html": [
              "<div>\n",
              "<style scoped>\n",
              "    .dataframe tbody tr th:only-of-type {\n",
              "        vertical-align: middle;\n",
              "    }\n",
              "\n",
              "    .dataframe tbody tr th {\n",
              "        vertical-align: top;\n",
              "    }\n",
              "\n",
              "    .dataframe thead th {\n",
              "        text-align: right;\n",
              "    }\n",
              "</style>\n",
              "<table border=\"1\" class=\"dataframe\">\n",
              "  <thead>\n",
              "    <tr style=\"text-align: right;\">\n",
              "      <th></th>\n",
              "      <th>ID</th>\n",
              "      <th>Sexo</th>\n",
              "      <th>AdultoMayor</th>\n",
              "      <th>Socio</th>\n",
              "      <th>Dependientes</th>\n",
              "      <th>MesesCliente</th>\n",
              "      <th>ServicioTelefonico</th>\n",
              "      <th>LineasMultiples</th>\n",
              "      <th>ServicioInternet</th>\n",
              "      <th>SeguridadOnline</th>\n",
              "      <th>RespaldoOnline</th>\n",
              "      <th>ProteccionDispositivo</th>\n",
              "      <th>SoporteTecnico</th>\n",
              "      <th>TransmisionTV</th>\n",
              "      <th>TransmisionPeliculas</th>\n",
              "      <th>TerminoContrato</th>\n",
              "      <th>FacturacionElectronica</th>\n",
              "      <th>MetodoPago</th>\n",
              "      <th>MontoCargadoMes</th>\n",
              "      <th>MontoCargadoTotal</th>\n",
              "      <th>Churn</th>\n",
              "    </tr>\n",
              "  </thead>\n",
              "  <tbody>\n",
              "    <tr>\n",
              "      <th>0</th>\n",
              "      <td>ID01802</td>\n",
              "      <td>Masculino</td>\n",
              "      <td>1.0</td>\n",
              "      <td>No</td>\n",
              "      <td>No</td>\n",
              "      <td>11.0</td>\n",
              "      <td>Si</td>\n",
              "      <td>Si</td>\n",
              "      <td>DSL</td>\n",
              "      <td>Si</td>\n",
              "      <td>Si</td>\n",
              "      <td>No</td>\n",
              "      <td>No</td>\n",
              "      <td>No</td>\n",
              "      <td>No</td>\n",
              "      <td>Mes a mes</td>\n",
              "      <td>No</td>\n",
              "      <td>Tarjeta de credito (automatico)</td>\n",
              "      <td>60.25</td>\n",
              "      <td>662.95</td>\n",
              "      <td>0</td>\n",
              "    </tr>\n",
              "    <tr>\n",
              "      <th>1</th>\n",
              "      <td>ID05696</td>\n",
              "      <td>Masculino</td>\n",
              "      <td>0.0</td>\n",
              "      <td>No</td>\n",
              "      <td>No</td>\n",
              "      <td>1.0</td>\n",
              "      <td>Si</td>\n",
              "      <td>No</td>\n",
              "      <td>No</td>\n",
              "      <td>Sin servicio de internet</td>\n",
              "      <td>Sin servicio de internet</td>\n",
              "      <td>Sin servicio de internet</td>\n",
              "      <td>Sin servicio de internet</td>\n",
              "      <td>Sin servicio de internet</td>\n",
              "      <td>Sin servicio de internet</td>\n",
              "      <td>Mes a mes</td>\n",
              "      <td>No</td>\n",
              "      <td>Checke electronico</td>\n",
              "      <td>20.05</td>\n",
              "      <td>20.05</td>\n",
              "      <td>0</td>\n",
              "    </tr>\n",
              "    <tr>\n",
              "      <th>2</th>\n",
              "      <td>ID03166</td>\n",
              "      <td>Femenino</td>\n",
              "      <td>0.0</td>\n",
              "      <td>Si</td>\n",
              "      <td>Si</td>\n",
              "      <td>8.0</td>\n",
              "      <td>Si</td>\n",
              "      <td>No</td>\n",
              "      <td>Fibra Optica</td>\n",
              "      <td>No</td>\n",
              "      <td>No</td>\n",
              "      <td>Si</td>\n",
              "      <td>No</td>\n",
              "      <td>Si</td>\n",
              "      <td>Si</td>\n",
              "      <td>Mes a mes</td>\n",
              "      <td>Si</td>\n",
              "      <td>Checke por correo</td>\n",
              "      <td>94.20</td>\n",
              "      <td>777.3</td>\n",
              "      <td>1</td>\n",
              "    </tr>\n",
              "    <tr>\n",
              "      <th>3</th>\n",
              "      <td>ID00104</td>\n",
              "      <td>Masculino</td>\n",
              "      <td>0.0</td>\n",
              "      <td>Si</td>\n",
              "      <td>Si</td>\n",
              "      <td>50.0</td>\n",
              "      <td>No</td>\n",
              "      <td>Sin servicio telefonico</td>\n",
              "      <td>DSL</td>\n",
              "      <td>Si</td>\n",
              "      <td>No</td>\n",
              "      <td>No</td>\n",
              "      <td>No</td>\n",
              "      <td>Si</td>\n",
              "      <td>No</td>\n",
              "      <td>Mes a mes</td>\n",
              "      <td>Si</td>\n",
              "      <td>Transferencia bancaria (automatico)</td>\n",
              "      <td>39.45</td>\n",
              "      <td>2021.35</td>\n",
              "      <td>0</td>\n",
              "    </tr>\n",
              "    <tr>\n",
              "      <th>4</th>\n",
              "      <td>ID05060</td>\n",
              "      <td>Femenino</td>\n",
              "      <td>0.0</td>\n",
              "      <td>No</td>\n",
              "      <td>No</td>\n",
              "      <td>71.0</td>\n",
              "      <td>Si</td>\n",
              "      <td>Si</td>\n",
              "      <td>Fibra Optica</td>\n",
              "      <td>Si</td>\n",
              "      <td>Si</td>\n",
              "      <td>Si</td>\n",
              "      <td>Si</td>\n",
              "      <td>Si</td>\n",
              "      <td>Si</td>\n",
              "      <td>Bianual</td>\n",
              "      <td>Si</td>\n",
              "      <td>Checke por correo</td>\n",
              "      <td>118.65</td>\n",
              "      <td>NaN</td>\n",
              "      <td>0</td>\n",
              "    </tr>\n",
              "  </tbody>\n",
              "</table>\n",
              "</div>"
            ],
            "text/plain": [
              "        ID       Sexo  AdultoMayor  ... MontoCargadoMes MontoCargadoTotal  Churn\n",
              "0  ID01802  Masculino          1.0  ...           60.25            662.95      0\n",
              "1  ID05696  Masculino          0.0  ...           20.05             20.05      0\n",
              "2  ID03166   Femenino          0.0  ...           94.20             777.3      1\n",
              "3  ID00104  Masculino          0.0  ...           39.45           2021.35      0\n",
              "4  ID05060   Femenino          0.0  ...          118.65               NaN      0\n",
              "\n",
              "[5 rows x 21 columns]"
            ]
          },
          "metadata": {
            "tags": []
          },
          "execution_count": 28
        }
      ]
    }
  ]
}